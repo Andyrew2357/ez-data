{
 "cells": [
  {
   "cell_type": "markdown",
   "id": "8a597c99",
   "metadata": {},
   "source": []
  },
  {
   "cell_type": "code",
   "execution_count": null,
   "id": "3a90b8a0",
   "metadata": {},
   "outputs": [],
   "source": [
    "import time\n",
    "import numpy as np\n",
    "import xarray as xr\n",
    "from pathlib import Path\n",
    "\n",
    "from pyPulses.utils import SweepMeasureProduct\n",
    "from ez_data import DsetConnector, sqlite_to_xarray, xarray_to_sqlite"
   ]
  },
  {
   "cell_type": "code",
   "execution_count": null,
   "id": "181c4223",
   "metadata": {},
   "outputs": [],
   "source": [
    "VG_ = 0.0\n",
    "def VG(x = None):\n",
    "    global VG_\n",
    "    if x is None: \n",
    "        return VG_\n",
    "    VG_ = x\n",
    "\n",
    "VB_ = 0.0\n",
    "def VB(x = None):\n",
    "    global VB_\n",
    "    if x is None: \n",
    "        return VB_\n",
    "    VB_ = x\n",
    "\n",
    "def I():\n",
    "    return np.random.normal(loc = 1.0, scale = 0.001)\n",
    "\n",
    "def V():\n",
    "    return np.random.normal(loc = 0.0, scale = 0.01)"
   ]
  },
  {
   "cell_type": "code",
   "execution_count": null,
   "id": "6cca5d34",
   "metadata": {},
   "outputs": [],
   "source": [
    "# Performance without any data saving\n",
    "\n",
    "sweep = SweepMeasureProduct(\n",
    "    coordinates    = [{'f': VG, 'name': 'VG', 'long_name': R\"$V_G$\", 'units': 'V'},\n",
    "                      {'f': VB, 'name': 'VB', 'long_name': R\"$V_B$\", 'units': 'V'}],\n",
    "    measurements   = [{'f': I, 'name': 'I', 'long_name': R\"$I$\", 'units': 'A'},\n",
    "                      {'f': V, 'name': 'V', 'long_name': R\"$V$\", 'units': 'V'}],\n",
    "    time_per_point = 0.01,\n",
    "    axes           = (np.linspace(-1, 1, 50), np.linspace(-0.5, 0.5, 40)),\n",
    "    retain_return  = False,\n",
    "    plot_fields    = None,\n",
    "    timestamp      = True\n",
    ")\n",
    "\n",
    "t0 = time.perf_counter()\n",
    "sweep.run()\n",
    "t1 = time.perf_counter()\n",
    "\n",
    "print(f\"Sweep finished in {t1 - t0:.3f} seconds\")"
   ]
  },
  {
   "cell_type": "code",
   "execution_count": null,
   "id": "0f49fc37",
   "metadata": {},
   "outputs": [],
   "source": [
    "# Performance using DsetConnector\n",
    "\n",
    "sweep = SweepMeasureProduct(\n",
    "    coordinates    = [{'f': VG, 'name': 'VG', 'long_name': R\"$V_G$\", 'units': 'V'},\n",
    "                      {'f': VB, 'name': 'VB', 'long_name': R\"$V_B$\", 'units': 'V'}],\n",
    "    measurements   = [{'f': I, 'name': 'I', 'long_name': R\"$I$\", 'units': 'A'},\n",
    "                      {'f': V, 'name': 'V', 'long_name': R\"$V$\", 'units': 'V'}],\n",
    "    time_per_point = 0.01,\n",
    "    axes           = (np.linspace(-1, 1, 50), np.linspace(-0.5, 0.5, 40)),\n",
    "    retain_return  = False,\n",
    "    plot_fields    = None,\n",
    "    timestamp      = True\n",
    ")\n",
    "\n",
    "demo_path = Path(\"demo/demo_sweep\")\n",
    "connector = DsetConnector.from_param_sweep(sweep, demo_path)\n",
    "\n",
    "sweep.post_callback = connector.add_point\n",
    "t0 = time.perf_counter()\n",
    "sweep.run()\n",
    "connector.close()\n",
    "t1 = time.perf_counter()\n",
    "\n",
    "print(f\"Sweep finished in {t1 - t0:.3f} seconds\")"
   ]
  },
  {
   "cell_type": "code",
   "execution_count": null,
   "id": "eec6f168",
   "metadata": {},
   "outputs": [],
   "source": [
    "# Performance using DsetConnector with buffering\n",
    "\n",
    "sweep = SweepMeasureProduct(\n",
    "    coordinates    = [{'f': VG, 'name': 'VG', 'long_name': R\"$V_G$\", 'units': 'V'},\n",
    "                      {'f': VB, 'name': 'VB', 'long_name': R\"$V_B$\", 'units': 'V'}],\n",
    "    measurements   = [{'f': I, 'name': 'I', 'long_name': R\"$I$\", 'units': 'A'},\n",
    "                      {'f': V, 'name': 'V', 'long_name': R\"$V$\", 'units': 'V'}],\n",
    "    time_per_point = 0.01,\n",
    "    axes           = (np.linspace(-1, 1, 50), np.linspace(-0.5, 0.5, 40)),\n",
    "    retain_return  = False,\n",
    "    plot_fields    = None,\n",
    "    timestamp      = True\n",
    ")\n",
    "\n",
    "demo_path = Path(\"demo/demo_sweep_buffered\")\n",
    "connector = DsetConnector.from_param_sweep(sweep, demo_path, use_buffer = True)\n",
    "\n",
    "sweep.post_callback = connector.add_point\n",
    "t0 = time.perf_counter()\n",
    "sweep.run()\n",
    "connector.close()\n",
    "t1 = time.perf_counter()\n",
    "\n",
    "print(f\"Sweep finished in {t1 - t0:.3f} seconds\")"
   ]
  },
  {
   "cell_type": "code",
   "execution_count": null,
   "id": "5b9cc8e7",
   "metadata": {},
   "outputs": [],
   "source": [
    "ds1 = sqlite_to_xarray(\"demo/demo_sweep\")\n",
    "ds2 = sqlite_to_xarray(\"demo/demo_sweep_buffered\")\n",
    "display(ds1)\n",
    "display(ds2)"
   ]
  },
  {
   "cell_type": "code",
   "execution_count": null,
   "id": "5366ae6b",
   "metadata": {},
   "outputs": [],
   "source": [
    "# saving datasets\n",
    "xarray_to_sqlite(ds2, \"demo/demo_saved\", overwrite=True)"
   ]
  },
  {
   "cell_type": "code",
   "execution_count": null,
   "id": "68de7cb6",
   "metadata": {},
   "outputs": [],
   "source": [
    "ds_saved = sqlite_to_xarray(\"demo/demo_saved\")"
   ]
  },
  {
   "cell_type": "code",
   "execution_count": null,
   "id": "66b50f9b",
   "metadata": {},
   "outputs": [],
   "source": [
    "display(ds_saved)"
   ]
  }
 ],
 "metadata": {
  "kernelspec": {
   "display_name": ".venv",
   "language": "python",
   "name": "python3"
  },
  "language_info": {
   "codemirror_mode": {
    "name": "ipython",
    "version": 3
   },
   "file_extension": ".py",
   "mimetype": "text/x-python",
   "name": "python",
   "nbconvert_exporter": "python",
   "pygments_lexer": "ipython3",
   "version": "3.12.0"
  }
 },
 "nbformat": 4,
 "nbformat_minor": 5
}
